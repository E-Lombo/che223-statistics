{
 "cells": [
  {
   "cell_type": "code",
   "execution_count": 15,
   "metadata": {},
   "outputs": [],
   "source": [
    "import pandas as pd\n",
    "import numpy as np\n",
    "from scipy import stats\n",
    "import matplotlib.pyplot as plt\n",
    "from scipy.optimize import curve_fit\n",
    "\n",
    "import uncertainties.unumpy as unp\n",
    "import uncertainties as unc"
   ]
  },
  {
   "attachments": {},
   "cell_type": "markdown",
   "metadata": {},
   "source": [
    "# Question 1"
   ]
  },
  {
   "cell_type": "code",
   "execution_count": 2,
   "metadata": {},
   "outputs": [
    {
     "data": {
      "text/html": [
       "<div>\n",
       "<style scoped>\n",
       "    .dataframe tbody tr th:only-of-type {\n",
       "        vertical-align: middle;\n",
       "    }\n",
       "\n",
       "    .dataframe tbody tr th {\n",
       "        vertical-align: top;\n",
       "    }\n",
       "\n",
       "    .dataframe thead th {\n",
       "        text-align: right;\n",
       "    }\n",
       "</style>\n",
       "<table border=\"1\" class=\"dataframe\">\n",
       "  <thead>\n",
       "    <tr style=\"text-align: right;\">\n",
       "      <th></th>\n",
       "      <th>Period 1</th>\n",
       "      <th>Period 2</th>\n",
       "    </tr>\n",
       "  </thead>\n",
       "  <tbody>\n",
       "    <tr>\n",
       "      <th>0</th>\n",
       "      <td>27.680136</td>\n",
       "      <td>12.336870</td>\n",
       "    </tr>\n",
       "    <tr>\n",
       "      <th>1</th>\n",
       "      <td>32.914177</td>\n",
       "      <td>11.868782</td>\n",
       "    </tr>\n",
       "    <tr>\n",
       "      <th>2</th>\n",
       "      <td>30.806953</td>\n",
       "      <td>13.069898</td>\n",
       "    </tr>\n",
       "    <tr>\n",
       "      <th>3</th>\n",
       "      <td>33.417412</td>\n",
       "      <td>12.895928</td>\n",
       "    </tr>\n",
       "    <tr>\n",
       "      <th>4</th>\n",
       "      <td>22.121046</td>\n",
       "      <td>12.910894</td>\n",
       "    </tr>\n",
       "    <tr>\n",
       "      <th>5</th>\n",
       "      <td>22.487118</td>\n",
       "      <td>17.255720</td>\n",
       "    </tr>\n",
       "    <tr>\n",
       "      <th>6</th>\n",
       "      <td>26.722399</td>\n",
       "      <td>12.755438</td>\n",
       "    </tr>\n",
       "    <tr>\n",
       "      <th>7</th>\n",
       "      <td>31.507780</td>\n",
       "      <td>13.347216</td>\n",
       "    </tr>\n",
       "    <tr>\n",
       "      <th>8</th>\n",
       "      <td>25.720625</td>\n",
       "      <td>12.265099</td>\n",
       "    </tr>\n",
       "    <tr>\n",
       "      <th>9</th>\n",
       "      <td>23.742313</td>\n",
       "      <td>11.752333</td>\n",
       "    </tr>\n",
       "    <tr>\n",
       "      <th>10</th>\n",
       "      <td>29.733955</td>\n",
       "      <td>11.936597</td>\n",
       "    </tr>\n",
       "    <tr>\n",
       "      <th>11</th>\n",
       "      <td>11.619726</td>\n",
       "      <td>13.706794</td>\n",
       "    </tr>\n",
       "    <tr>\n",
       "      <th>12</th>\n",
       "      <td>33.406059</td>\n",
       "      <td>11.625323</td>\n",
       "    </tr>\n",
       "    <tr>\n",
       "      <th>13</th>\n",
       "      <td>12.531604</td>\n",
       "      <td>12.090756</td>\n",
       "    </tr>\n",
       "    <tr>\n",
       "      <th>14</th>\n",
       "      <td>24.077976</td>\n",
       "      <td>12.920347</td>\n",
       "    </tr>\n",
       "    <tr>\n",
       "      <th>15</th>\n",
       "      <td>29.510933</td>\n",
       "      <td>12.731277</td>\n",
       "    </tr>\n",
       "    <tr>\n",
       "      <th>16</th>\n",
       "      <td>28.882330</td>\n",
       "      <td>12.079923</td>\n",
       "    </tr>\n",
       "    <tr>\n",
       "      <th>17</th>\n",
       "      <td>24.688025</td>\n",
       "      <td>11.878917</td>\n",
       "    </tr>\n",
       "    <tr>\n",
       "      <th>18</th>\n",
       "      <td>32.995159</td>\n",
       "      <td>14.440809</td>\n",
       "    </tr>\n",
       "    <tr>\n",
       "      <th>19</th>\n",
       "      <td>24.014292</td>\n",
       "      <td>11.239848</td>\n",
       "    </tr>\n",
       "  </tbody>\n",
       "</table>\n",
       "</div>"
      ],
      "text/plain": [
       "     Period 1   Period 2\n",
       "0   27.680136  12.336870\n",
       "1   32.914177  11.868782\n",
       "2   30.806953  13.069898\n",
       "3   33.417412  12.895928\n",
       "4   22.121046  12.910894\n",
       "5   22.487118  17.255720\n",
       "6   26.722399  12.755438\n",
       "7   31.507780  13.347216\n",
       "8   25.720625  12.265099\n",
       "9   23.742313  11.752333\n",
       "10  29.733955  11.936597\n",
       "11  11.619726  13.706794\n",
       "12  33.406059  11.625323\n",
       "13  12.531604  12.090756\n",
       "14  24.077976  12.920347\n",
       "15  29.510933  12.731277\n",
       "16  28.882330  12.079923\n",
       "17  24.688025  11.878917\n",
       "18  32.995159  14.440809\n",
       "19  24.014292  11.239848"
      ]
     },
     "execution_count": 2,
     "metadata": {},
     "output_type": "execute_result"
    }
   ],
   "source": [
    "df1 = pd.read_csv('Group_11_Question_1_Data.csv', index_col=0)\n",
    "df1"
   ]
  },
  {
   "cell_type": "code",
   "execution_count": 4,
   "metadata": {},
   "outputs": [
    {
     "data": {
      "text/html": [
       "<div>\n",
       "<style scoped>\n",
       "    .dataframe tbody tr th:only-of-type {\n",
       "        vertical-align: middle;\n",
       "    }\n",
       "\n",
       "    .dataframe tbody tr th {\n",
       "        vertical-align: top;\n",
       "    }\n",
       "\n",
       "    .dataframe thead th {\n",
       "        text-align: right;\n",
       "    }\n",
       "</style>\n",
       "<table border=\"1\" class=\"dataframe\">\n",
       "  <thead>\n",
       "    <tr style=\"text-align: right;\">\n",
       "      <th></th>\n",
       "      <th>Period 1</th>\n",
       "      <th>Period 2</th>\n",
       "    </tr>\n",
       "  </thead>\n",
       "  <tbody>\n",
       "    <tr>\n",
       "      <th>count</th>\n",
       "      <td>20.000000</td>\n",
       "      <td>20.000000</td>\n",
       "    </tr>\n",
       "    <tr>\n",
       "      <th>mean</th>\n",
       "      <td>26.429001</td>\n",
       "      <td>12.755438</td>\n",
       "    </tr>\n",
       "    <tr>\n",
       "      <th>std</th>\n",
       "      <td>6.174648</td>\n",
       "      <td>1.310644</td>\n",
       "    </tr>\n",
       "    <tr>\n",
       "      <th>min</th>\n",
       "      <td>11.619726</td>\n",
       "      <td>11.239848</td>\n",
       "    </tr>\n",
       "    <tr>\n",
       "      <th>25%</th>\n",
       "      <td>23.946297</td>\n",
       "      <td>11.922177</td>\n",
       "    </tr>\n",
       "    <tr>\n",
       "      <th>50%</th>\n",
       "      <td>27.201267</td>\n",
       "      <td>12.534074</td>\n",
       "    </tr>\n",
       "    <tr>\n",
       "      <th>75%</th>\n",
       "      <td>30.982160</td>\n",
       "      <td>12.957735</td>\n",
       "    </tr>\n",
       "    <tr>\n",
       "      <th>max</th>\n",
       "      <td>33.417412</td>\n",
       "      <td>17.255720</td>\n",
       "    </tr>\n",
       "  </tbody>\n",
       "</table>\n",
       "</div>"
      ],
      "text/plain": [
       "        Period 1   Period 2\n",
       "count  20.000000  20.000000\n",
       "mean   26.429001  12.755438\n",
       "std     6.174648   1.310644\n",
       "min    11.619726  11.239848\n",
       "25%    23.946297  11.922177\n",
       "50%    27.201267  12.534074\n",
       "75%    30.982160  12.957735\n",
       "max    33.417412  17.255720"
      ]
     },
     "execution_count": 4,
     "metadata": {},
     "output_type": "execute_result"
    }
   ],
   "source": [
    "df1.describe()"
   ]
  },
  {
   "cell_type": "code",
   "execution_count": 46,
   "metadata": {},
   "outputs": [],
   "source": [
    "def check_normality(data):\n",
    "    test_stat_normality, p_value_normality=stats.shapiro(data)\n",
    "    print(\"p value:%.4f\" % p_value_normality)\n",
    "    if p_value_normality <0.05:\n",
    "        print(\"Reject null hypothesis >> The data is not normally distributed\")\n",
    "    else:\n",
    "        print(\"Fail to reject null hypothesis >> The data is normally distributed\")"
   ]
  },
  {
   "cell_type": "code",
   "execution_count": 47,
   "metadata": {},
   "outputs": [
    {
     "name": "stdout",
     "output_type": "stream",
     "text": [
      "p value:0.0188\n",
      "Reject null hypothesis >> The data is not normally distributed\n",
      "p value:0.0005\n",
      "Reject null hypothesis >> The data is not normally distributed\n"
     ]
    }
   ],
   "source": [
    "check_normality(df1[\"Period 1\"])\n",
    "check_normality(df1[\"Period 2\"])"
   ]
  },
  {
   "cell_type": "code",
   "execution_count": 53,
   "metadata": {},
   "outputs": [],
   "source": [
    "def check_variance_homogeneity(group1, group2):\n",
    "    test_stat_var, p_value_var= stats.levene(group1,group2)\n",
    "    print(\"p value:%.4f\" % p_value_var)\n",
    "    if p_value_var <0.05:\n",
    "        print(\"Reject null hypothesis >> The variances of the samples are different.\")\n",
    "    else:\n",
    "        print(\"Fail to reject null hypothesis >> The variances of the samples are same.\")\n",
    "\n",
    "# see F-test "
   ]
  },
  {
   "cell_type": "code",
   "execution_count": 54,
   "metadata": {},
   "outputs": [
    {
     "name": "stdout",
     "output_type": "stream",
     "text": [
      "p value:0.0002\n",
      "Reject null hypothesis >> The variances of the samples are different.\n"
     ]
    }
   ],
   "source": [
    "check_variance_homogeneity(df1[\"Period 1\"], df1[\"Period 2\"])"
   ]
  },
  {
   "cell_type": "code",
   "execution_count": 15,
   "metadata": {},
   "outputs": [
    {
     "data": {
      "text/plain": [
       "array([[<AxesSubplot:title={'center':'Period 1'}>,\n",
       "        <AxesSubplot:title={'center':'Period 2'}>]], dtype=object)"
      ]
     },
     "execution_count": 15,
     "metadata": {},
     "output_type": "execute_result"
    },
    {
     "data": {
      "image/png": "[encoded data removed]",
      "text/plain": [
       "<Figure size 432x288 with 2 Axes>"
      ]
     },
     "metadata": {
      "needs_background": "light"
     },
     "output_type": "display_data"
    }
   ],
   "source": [
    "df1.hist()"
   ]
  },
  {
   "cell_type": "code",
   "execution_count": 6,
   "metadata": {},
   "outputs": [
    {
     "data": {
      "image/png": "[encoded data removed]",
      "text/plain": [
       "<Figure size 432x288 with 1 Axes>"
      ]
     },
     "metadata": {
      "needs_background": "light"
     },
     "output_type": "display_data"
    }
   ],
   "source": [
    "plt.hist(df1[\"Period 1\"], bins=10)\n",
    "plt.hist(df1[\"Period 2\"], bins=10)\n",
    "plt.show()"
   ]
  },
  {
   "attachments": {},
   "cell_type": "markdown",
   "metadata": {},
   "source": [
    "## Wilcoxon Rank-Sum / Mann Whitney U Test\n",
    "\n",
    "Assuming:\n",
    "1. The populations are continuous / ordinal\n",
    "2. The probability density functions are of the same size and shape, but only shifted in location\n",
    "\n",
    "(#2 is shaky, but possible if assuming that the measurment method provides the same distribution, but shifted, for Kappa regardless of type of wood)"
   ]
  },
  {
   "attachments": {},
   "cell_type": "markdown",
   "metadata": {},
   "source": [
    "Let\n",
    "\n",
    "* H<sub>0</sub>: The distributions for Periods 1 and 2 are identical\n",
    "* H<sub>1</sub>: The distributions for Periods 1 and 2 are different\n",
    "\n",
    "A confidence level of 95% will be required to reject the null hypothesis in favor of the alternative"
   ]
  },
  {
   "cell_type": "code",
   "execution_count": 50,
   "metadata": {},
   "outputs": [
    {
     "name": "stdout",
     "output_type": "stream",
     "text": [
      "p value:0.0000039874\n",
      "Reject null hypothesis >> The distributions for Periods 1 and 2 are different\n"
     ]
    }
   ],
   "source": [
    "def test_mannwhtneyu_hypothesis(x1, x2):\n",
    "    U, p = stats.mannwhitneyu(x1, x2)\n",
    "\n",
    "    print(\"p value:%.10f\" % p)\n",
    "    if p <0.05:\n",
    "        print(\"Reject null hypothesis >> The distributions for Periods 1 and 2 are different\")\n",
    "    else:\n",
    "        print(\"Fail to reject null hypothesis >> The distributions for Periods 1 and 2 are identical\")\n",
    "\n",
    "test_mannwhtneyu_hypothesis(df1[\"Period 1\"], df1[\"Period 2\"])"
   ]
  },
  {
   "attachments": {},
   "cell_type": "markdown",
   "metadata": {},
   "source": [
    "## Kruskal-Wallis H test\n",
    "\n",
    "Extension of the Mann-Whitney\n",
    "\n",
    "Let\n",
    "\n",
    "* H<sub>0</sub>: The median Kappa for Periods 1 and 2 are identical\n",
    "* H<sub>1</sub>: The median Kappa for Periods 1 and 2 are different"
   ]
  },
  {
   "cell_type": "code",
   "execution_count": 56,
   "metadata": {},
   "outputs": [
    {
     "name": "stdout",
     "output_type": "stream",
     "text": [
      "p value:0.0000037358\n",
      "Reject null hypothesis >> The median Kappa for Periods 1 and 2 are different\n"
     ]
    }
   ],
   "source": [
    "def test_kruskalwallish_hypothesis():\n",
    "    H, p = stats.kruskal(df1[\"Period 1\"], df1[\"Period 2\"])\n",
    "\n",
    "    print(\"p value:%.10f\" % p)\n",
    "    if p <0.05:\n",
    "        print(\"Reject null hypothesis >> The median Kappa for Periods 1 and 2 are different\")\n",
    "    else:\n",
    "        print(\"Fail to reject null hypothesis >> The median Kappa for Periods 1 and 2 are identical\")\n",
    "\n",
    "test_kruskalwallish_hypothesis()"
   ]
  },
  {
   "attachments": {},
   "cell_type": "markdown",
   "metadata": {},
   "source": [
    "## F-test for variance"
   ]
  },
  {
   "cell_type": "code",
   "execution_count": 7,
   "metadata": {},
   "outputs": [
    {
     "name": "stdout",
     "output_type": "stream",
     "text": [
      "Reject null hypothesis >> The variances of the samples are different.\n"
     ]
    }
   ],
   "source": [
    "def f_test(x1: pd.Series, x2: pd.Series):\n",
    "\n",
    "    # Ensures the F statistic is greater than 1, by assigning the larger standard deviation to the numerator\n",
    "    if x1.std() < x2.std():\n",
    "        x1, x2 = x2, x1\n",
    "\n",
    "    # Calculate F statistic\n",
    "    F = x1.std()**2 / x2.std()**2\n",
    "\n",
    "    # Set degrees of freedom\n",
    "    kwargs = dict(dfn= (x1.size -1), dfd= (x2.size -1))\n",
    "\n",
    "    # Find critical value of F distribution at 95% confidence level\n",
    "    F_crit = stats.f.ppf(q=1-0.05, **kwargs)\n",
    "\n",
    "    if F > F_crit:\n",
    "        print(\"Reject null hypothesis >> The variances of the samples are different.\")\n",
    "    else:\n",
    "        print(\"Fail to reject null hypothesis >> The variances of the samples are same.\")\n",
    "\n",
    "f_test(df1[\"Period 1\"], df1[\"Period 2\"])"
   ]
  },
  {
   "attachments": {},
   "cell_type": "markdown",
   "metadata": {},
   "source": [
    "## Non-pooled t-test\n",
    "\n",
    "Assumes the underlying distributions are normal\n",
    "\n",
    "* H<sub>0</sub>: $\\mu_1 = \\mu_2$"
   ]
  },
  {
   "cell_type": "code",
   "execution_count": 8,
   "metadata": {},
   "outputs": [
    {
     "name": "stdout",
     "output_type": "stream",
     "text": [
      "p value:0.0000000039\n",
      "Reject null hypothesis >> The distributions for Periods 1 and 2 are different\n"
     ]
    }
   ],
   "source": [
    "def non_pooled_ttest(x1, x2):\n",
    "\n",
    "    t, p = stats.ttest_ind(x1, x2, equal_var=False)\n",
    "\n",
    "    print(\"p value:%.10f\" % p)\n",
    "    if p <0.05:\n",
    "        print(\"Reject null hypothesis >> The distributions for Periods 1 and 2 are different\")\n",
    "    else:\n",
    "        print(\"Fail to reject null hypothesis >> The distributions for Periods 1 and 2 are identical\")\n",
    "\n",
    "\n",
    "non_pooled_ttest(df1[\"Period 1\"], df1[\"Period 2\"])"
   ]
  },
  {
   "attachments": {},
   "cell_type": "markdown",
   "metadata": {},
   "source": [
    "# Question 2"
   ]
  },
  {
   "cell_type": "code",
   "execution_count": 18,
   "metadata": {},
   "outputs": [
    {
     "data": {
      "text/plain": [
       "White Liquor Carbonate    14.328484\n",
       "White Liquor TTA          89.871505\n",
       "dtype: float64"
      ]
     },
     "execution_count": 18,
     "metadata": {},
     "output_type": "execute_result"
    }
   ],
   "source": [
    "df2 = pd.read_csv(\"Group_11_Question_2_Data.csv\", index_col=0)\n",
    "df2.min()"
   ]
  },
  {
   "cell_type": "code",
   "execution_count": 11,
   "metadata": {},
   "outputs": [
    {
     "data": {
      "text/plain": [
       "<AxesSubplot:xlabel='White Liquor Carbonate', ylabel='White Liquor TTA'>"
      ]
     },
     "execution_count": 11,
     "metadata": {},
     "output_type": "execute_result"
    },
    {
     "data": {
      "image/png": "[encoded data removed]",
      "text/plain": [
       "<Figure size 432x288 with 1 Axes>"
      ]
     },
     "metadata": {
      "needs_background": "light"
     },
     "output_type": "display_data"
    }
   ],
   "source": [
    "df2.plot(x=\"White Liquor Carbonate\", y=\"White Liquor TTA\", style=\"o\", kind='scatter')"
   ]
  },
  {
   "cell_type": "code",
   "execution_count": 21,
   "metadata": {},
   "outputs": [
    {
     "name": "stdout",
     "output_type": "stream",
     "text": [
      "Optimal Values\n",
      "a: 8.930397762563143\n",
      "b: -32.68171554346179\n",
      "R^2: 0.4238451985434798\n",
      "Uncertainty\n",
      "a: 8.9+/-2.5\n",
      "b: (-3+/-4)e+01\n"
     ]
    },
    {
     "data": {
      "text/plain": [
       "<matplotlib.legend.Legend at 0x13698c779a0>"
      ]
     },
     "execution_count": 21,
     "metadata": {},
     "output_type": "execute_result"
    },
    {
     "data": {
      "image/png": "[encoded data removed]",
      "text/plain": [
       "<Figure size 432x288 with 1 Axes>"
      ]
     },
     "metadata": {
      "needs_background": "light"
     },
     "output_type": "display_data"
    }
   ],
   "source": [
    "x = df2[\"White Liquor Carbonate\"]\n",
    "y = df2[\"White Liquor TTA\"]\n",
    "\n",
    "\n",
    "# from https://apmonitor.com/che263/index.php/Main/PythonRegressionStatistics\n",
    "\n",
    "def f(x, a, b):\n",
    "    return a * x + b\n",
    "\n",
    "popt, pcov = curve_fit(f, x, y)\n",
    "\n",
    "# retrieve parameter values\n",
    "a = popt[0]\n",
    "b = popt[1]\n",
    "print('Optimal Values')\n",
    "print('a: ' + str(a))\n",
    "print('b: ' + str(b))\n",
    "\n",
    "# compute r^2\n",
    "r2 = 1.0-(sum((y-f(x,a,b))**2)/((len(y)-1.0)*np.var(y,ddof=1)))\n",
    "print('R^2: ' + str(r2))\n",
    "\n",
    "# calculate parameter confidence interval\n",
    "a,b = unc.correlated_values(popt, pcov)\n",
    "print('Uncertainty')\n",
    "print('a: ' + str(a))\n",
    "print('b: ' + str(b))\n",
    "\n",
    "# plot data\n",
    "plt.scatter(x, y, label='Data')\n",
    "\n",
    "# calculate regression confidence interval\n",
    "px = np.linspace(14, 21, 100)\n",
    "py = a*px+b\n",
    "nom = unp.nominal_values(py)\n",
    "std = unp.std_devs(py)\n",
    "\n",
    "def predband(x, xd, yd, p, func, conf=0.95):\n",
    "    # x = requested points\n",
    "    # xd = x data\n",
    "    # yd = y data\n",
    "    # p = parameters\n",
    "    # func = function name\n",
    "    alpha = 1.0 - conf    # significance\n",
    "    N = xd.size          # data sample size\n",
    "    var_n = len(p)  # number of parameters\n",
    "    # Quantile of Student's t distribution for p=(1-alpha/2)\n",
    "    q = stats.t.ppf(1.0 - alpha / 2.0, N - var_n)\n",
    "    # Stdev of an individual measurement\n",
    "    se = np.sqrt(1. / (N - var_n) * \\\n",
    "                 np.sum((yd - func(xd, *p)) ** 2))\n",
    "    # Auxiliary definitions\n",
    "    sx = (x - xd.mean()) ** 2\n",
    "    sxd = np.sum((xd - xd.mean()) ** 2)\n",
    "    # Predicted values (best-fit model)\n",
    "    yp = func(x, *p)\n",
    "    # Prediction band\n",
    "    dy = q * se * np.sqrt(1.0+ (1.0/N) + (sx/sxd))\n",
    "    # Upper & lower prediction bands.\n",
    "    lpb, upb = yp - dy, yp + dy\n",
    "    return lpb, upb\n",
    "\n",
    "lpb, upb = predband(px, x, y, popt, f, conf=0.95)\n",
    "\n",
    "# plot the regression\n",
    "plt.plot(px, nom, c='black', label='y=a x + b')\n",
    "\n",
    "# uncertainty lines (95% confidence)\n",
    "plt.plot(px, nom - 1.96 * std, c='orange',\\\n",
    "         label='95% Confidence Region')\n",
    "plt.plot(px, nom + 1.96 * std, c='orange')\n",
    "# prediction band (95% confidence)\n",
    "plt.plot(px, lpb, 'k--',label='95% Prediction Band')\n",
    "plt.plot(px, upb, 'k--')\n",
    "plt.ylabel('y')\n",
    "plt.xlabel('x')\n",
    "plt.legend()"
   ]
  }
 ],
 "metadata": {
  "kernelspec": {
   "display_name": "Python 3",
   "language": "python",
   "name": "python3"
  },
  "language_info": {
   "codemirror_mode": {
    "name": "ipython",
    "version": 3
   },
   "file_extension": ".py",
   "mimetype": "text/x-python",
   "name": "python",
   "nbconvert_exporter": "python",
   "pygments_lexer": "ipython3",
   "version": "3.10.5"
  },
  "orig_nbformat": 4
 },
 "nbformat": 4,
 "nbformat_minor": 2
}
