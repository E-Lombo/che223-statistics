{
 "cells": [
  {
   "cell_type": "code",
   "execution_count": 1,
   "metadata": {},
   "outputs": [],
   "source": [
    "import pandas as pd\n",
    "import numpy as np\n",
    "from scipy import stats\n",
    "import matplotlib.pyplot as plt\n",
    "from scipy.optimize import curve_fit\n",
    "import statsmodels.api as sm\n",
    "import pylab as py\n",
    "import uncertainties.unumpy as unp\n",
    "import uncertainties as unc"
   ]
  },
  {
   "attachments": {},
   "cell_type": "markdown",
   "metadata": {},
   "source": [
    "# Question 1"
   ]
  },
  {
   "cell_type": "code",
   "execution_count": 2,
   "metadata": {},
   "outputs": [
    {
     "data": {
      "text/html": [
       "<div>\n",
       "<style scoped>\n",
       "    .dataframe tbody tr th:only-of-type {\n",
       "        vertical-align: middle;\n",
       "    }\n",
       "\n",
       "    .dataframe tbody tr th {\n",
       "        vertical-align: top;\n",
       "    }\n",
       "\n",
       "    .dataframe thead th {\n",
       "        text-align: right;\n",
       "    }\n",
       "</style>\n",
       "<table border=\"1\" class=\"dataframe\">\n",
       "  <thead>\n",
       "    <tr style=\"text-align: right;\">\n",
       "      <th></th>\n",
       "      <th>Period 1</th>\n",
       "      <th>Period 2</th>\n",
       "    </tr>\n",
       "  </thead>\n",
       "  <tbody>\n",
       "    <tr>\n",
       "      <th>count</th>\n",
       "      <td>20.000000</td>\n",
       "      <td>20.000000</td>\n",
       "    </tr>\n",
       "    <tr>\n",
       "      <th>mean</th>\n",
       "      <td>26.429001</td>\n",
       "      <td>12.755438</td>\n",
       "    </tr>\n",
       "    <tr>\n",
       "      <th>std</th>\n",
       "      <td>6.174648</td>\n",
       "      <td>1.310644</td>\n",
       "    </tr>\n",
       "    <tr>\n",
       "      <th>min</th>\n",
       "      <td>11.619726</td>\n",
       "      <td>11.239848</td>\n",
       "    </tr>\n",
       "    <tr>\n",
       "      <th>25%</th>\n",
       "      <td>23.946297</td>\n",
       "      <td>11.922177</td>\n",
       "    </tr>\n",
       "    <tr>\n",
       "      <th>50%</th>\n",
       "      <td>27.201267</td>\n",
       "      <td>12.534074</td>\n",
       "    </tr>\n",
       "    <tr>\n",
       "      <th>75%</th>\n",
       "      <td>30.982160</td>\n",
       "      <td>12.957735</td>\n",
       "    </tr>\n",
       "    <tr>\n",
       "      <th>max</th>\n",
       "      <td>33.417412</td>\n",
       "      <td>17.255720</td>\n",
       "    </tr>\n",
       "  </tbody>\n",
       "</table>\n",
       "</div>"
      ],
      "text/plain": [
       "        Period 1   Period 2\n",
       "count  20.000000  20.000000\n",
       "mean   26.429001  12.755438\n",
       "std     6.174648   1.310644\n",
       "min    11.619726  11.239848\n",
       "25%    23.946297  11.922177\n",
       "50%    27.201267  12.534074\n",
       "75%    30.982160  12.957735\n",
       "max    33.417412  17.255720"
      ]
     },
     "execution_count": 2,
     "metadata": {},
     "output_type": "execute_result"
    }
   ],
   "source": [
    "df1 = pd.read_csv('Group_11_Question_1_Data.csv', index_col=0)\n",
    "df1.describe()"
   ]
  },
  {
   "cell_type": "code",
   "execution_count": 46,
   "metadata": {},
   "outputs": [],
   "source": [
    "def check_normality(data):\n",
    "    test_stat_normality, p_value_normality=stats.shapiro(data)\n",
    "    print(\"p value:%.4f\" % p_value_normality)\n",
    "    if p_value_normality <0.05:\n",
    "        print(\"Reject null hypothesis >> The data is not normally distributed\")\n",
    "    else:\n",
    "        print(\"Fail to reject null hypothesis >> The data is normally distributed\")\n",
    "\n",
    "check_normality(df1[\"Period 1\"])\n",
    "check_normality(df1[\"Period 2\"])"
   ]
  },
  {
   "cell_type": "code",
   "execution_count": 53,
   "metadata": {},
   "outputs": [],
   "source": [
    "def check_variance_homogeneity(group1, group2):\n",
    "    test_stat_var, p_value_var= stats.levene(group1,group2)\n",
    "    print(\"p value:%.4f\" % p_value_var)\n",
    "    if p_value_var <0.05:\n",
    "        print(\"Reject null hypothesis >> The variances of the samples are different.\")\n",
    "    else:\n",
    "        print(\"Fail to reject null hypothesis >> The variances of the samples are same.\")\n",
    "\n",
    "# see F-test \n",
    "check_variance_homogeneity(df1[\"Period 1\"], df1[\"Period 2\"])"
   ]
  },
  {
   "attachments": {},
   "cell_type": "markdown",
   "metadata": {},
   "source": [
    "## QQ-plot, Histograms"
   ]
  },
  {
   "cell_type": "code",
   "execution_count": 44,
   "metadata": {},
   "outputs": [
    {
     "data": {
      "image/png": "[encoded data removed]",
      "text/plain": [
       "<Figure size 432x288 with 1 Axes>"
      ]
     },
     "metadata": {
      "needs_background": "light"
     },
     "output_type": "display_data"
    },
    {
     "data": {
      "image/png": "[encoded data removed]",
      "text/plain": [
       "<Figure size 432x288 with 1 Axes>"
      ]
     },
     "metadata": {
      "needs_background": "light"
     },
     "output_type": "display_data"
    }
   ],
   "source": [
    "sm.qqplot(df1[\"Period 1\"], line ='45')\n",
    "py.xlabel('Theoretically Normal Quantities')\n",
    "py.title('Period 1')\n",
    "sm.qqplot(df1[\"Period 2\"], line ='45')\n",
    "py.xlabel('Theoretically Normal Quantities')\n",
    "py.title('Period 2')\n",
    "py.show()"
   ]
  },
  {
   "cell_type": "code",
   "execution_count": 46,
   "metadata": {},
   "outputs": [
    {
     "data": {
      "text/plain": [
       "Text(0.5, 0, 'Kappa')"
      ]
     },
     "execution_count": 46,
     "metadata": {},
     "output_type": "execute_result"
    },
    {
     "data": {
      "image/png": "[encoded data removed]",
      "text/plain": [
       "<Figure size 432x288 with 2 Axes>"
      ]
     },
     "metadata": {
      "needs_background": "light"
     },
     "output_type": "display_data"
    }
   ],
   "source": [
    "df1.hist()\n",
    "plt.xlabel('Kappa')"
   ]
  },
  {
   "cell_type": "code",
   "execution_count": 49,
   "metadata": {},
   "outputs": [
    {
     "data": {
      "image/png": "[encoded data removed]",
      "text/plain": [
       "<Figure size 432x288 with 1 Axes>"
      ]
     },
     "metadata": {
      "needs_background": "light"
     },
     "output_type": "display_data"
    }
   ],
   "source": [
    "plt.hist(df1, bins=20, histtype='barstacked')\n",
    "plt.legend(df1.columns)\n",
    "plt.xlabel('Sample Kappa Values')\n",
    "plt.ylabel('Frequency')\n",
    "plt.show()"
   ]
  },
  {
   "cell_type": "code",
   "execution_count": 14,
   "metadata": {},
   "outputs": [
    {
     "data": {
      "text/plain": [
       "Text(0, 0.5, 'Kappa')"
      ]
     },
     "execution_count": 14,
     "metadata": {},
     "output_type": "execute_result"
    },
    {
     "data": {
      "image/png": "[encoded data removed]",
      "text/plain": [
       "<Figure size 432x288 with 1 Axes>"
      ]
     },
     "metadata": {
      "needs_background": "light"
     },
     "output_type": "display_data"
    }
   ],
   "source": [
    "df1.boxplot(grid=False)\n",
    "plt.ylabel('Kappa')"
   ]
  },
  {
   "cell_type": "code",
   "execution_count": 16,
   "metadata": {},
   "outputs": [
    {
     "data": {
      "text/plain": [
       "{'bodies': [<matplotlib.collections.PolyCollection at 0x18ed9e569e0>,\n",
       "  <matplotlib.collections.PolyCollection at 0x18ed9e57cd0>],\n",
       " 'cmaxes': <matplotlib.collections.LineCollection at 0x18ed9e56a10>,\n",
       " 'cmins': <matplotlib.collections.LineCollection at 0x18ed9e8c400>,\n",
       " 'cbars': <matplotlib.collections.LineCollection at 0x18ed9e8c7f0>}"
      ]
     },
     "execution_count": 16,
     "metadata": {},
     "output_type": "execute_result"
    },
    {
     "data": {
      "image/png": "[encoded data removed]",
      "text/plain": [
       "<Figure size 432x288 with 1 Axes>"
      ]
     },
     "metadata": {
      "needs_background": "light"
     },
     "output_type": "display_data"
    }
   ],
   "source": [
    "plt.violinplot(df1)"
   ]
  },
  {
   "attachments": {},
   "cell_type": "markdown",
   "metadata": {},
   "source": [
    "## Wilcoxon Rank-Sum / Mann Whitney U Test\n",
    "\n",
    "Assuming:\n",
    "1. The populations are continuous / ordinal\n",
    "2. The probability density functions are of the same size and shape, but only shifted in location\n",
    "\n",
    "(#2 is shaky, but possible if assuming that the measurment method provides the same distribution, but shifted, for Kappa regardless of type of wood)"
   ]
  },
  {
   "attachments": {},
   "cell_type": "markdown",
   "metadata": {},
   "source": [
    "Let\n",
    "\n",
    "* H<sub>0</sub>: The distributions for Periods 1 and 2 are identical\n",
    "* H<sub>1</sub>: The distributions for Periods 1 and 2 are different\n",
    "\n",
    "A confidence level of 95% will be required to reject the null hypothesis in favor of the alternative"
   ]
  },
  {
   "cell_type": "code",
   "execution_count": 50,
   "metadata": {},
   "outputs": [
    {
     "name": "stdout",
     "output_type": "stream",
     "text": [
      "p value:0.0000039874\n",
      "Reject null hypothesis >> The distributions for Periods 1 and 2 are different\n"
     ]
    }
   ],
   "source": [
    "def test_mannwhtneyu_hypothesis(x1, x2):\n",
    "    U, p = stats.mannwhitneyu(x1, x2)\n",
    "\n",
    "    print(\"p value:%.10f\" % p)\n",
    "    if p <0.05:\n",
    "        print(\"Reject null hypothesis >> The distributions for Periods 1 and 2 are different\")\n",
    "    else:\n",
    "        print(\"Fail to reject null hypothesis >> The distributions for Periods 1 and 2 are identical\")\n",
    "\n",
    "test_mannwhtneyu_hypothesis(df1[\"Period 1\"], df1[\"Period 2\"])"
   ]
  },
  {
   "attachments": {},
   "cell_type": "markdown",
   "metadata": {},
   "source": [
    "## Kruskal-Wallis H test\n",
    "\n",
    "Extension of the Mann-Whitney\n",
    "\n",
    "Let\n",
    "\n",
    "* H<sub>0</sub>: The median Kappa for Periods 1 and 2 are identical\n",
    "* H<sub>1</sub>: The median Kappa for Periods 1 and 2 are different"
   ]
  },
  {
   "cell_type": "code",
   "execution_count": 56,
   "metadata": {},
   "outputs": [
    {
     "name": "stdout",
     "output_type": "stream",
     "text": [
      "p value:0.0000037358\n",
      "Reject null hypothesis >> The median Kappa for Periods 1 and 2 are different\n"
     ]
    }
   ],
   "source": [
    "def test_kruskalwallish_hypothesis():\n",
    "    H, p = stats.kruskal(df1[\"Period 1\"], df1[\"Period 2\"])\n",
    "\n",
    "    print(\"p value:%.10f\" % p)\n",
    "    if p <0.05:\n",
    "        print(\"Reject null hypothesis >> The median Kappa for Periods 1 and 2 are different\")\n",
    "    else:\n",
    "        print(\"Fail to reject null hypothesis >> The median Kappa for Periods 1 and 2 are identical\")\n",
    "\n",
    "test_kruskalwallish_hypothesis()"
   ]
  },
  {
   "attachments": {},
   "cell_type": "markdown",
   "metadata": {},
   "source": [
    "## F-test for variance"
   ]
  },
  {
   "cell_type": "code",
   "execution_count": 7,
   "metadata": {},
   "outputs": [
    {
     "name": "stdout",
     "output_type": "stream",
     "text": [
      "Reject null hypothesis >> The variances of the samples are different.\n"
     ]
    }
   ],
   "source": [
    "def f_test(x1: pd.Series, x2: pd.Series):\n",
    "\n",
    "    # Ensures the F statistic is greater than 1, by assigning the larger standard deviation to the numerator\n",
    "    if x1.std() < x2.std():\n",
    "        x1, x2 = x2, x1\n",
    "\n",
    "    # Calculate F statistic\n",
    "    F = x1.std()**2 / x2.std()**2\n",
    "\n",
    "    # Set degrees of freedom\n",
    "    kwargs = dict(dfn= (x1.size -1), dfd= (x2.size -1))\n",
    "\n",
    "    # Find critical value of F distribution at 95% confidence level\n",
    "    F_crit = stats.f.ppf(q=1-0.05, **kwargs)\n",
    "\n",
    "    if F > F_crit:\n",
    "        print(\"Reject null hypothesis >> The variances of the samples are different.\")\n",
    "    else:\n",
    "        print(\"Fail to reject null hypothesis >> The variances of the samples are same.\")\n",
    "\n",
    "f_test(df1[\"Period 1\"], df1[\"Period 2\"])"
   ]
  },
  {
   "attachments": {},
   "cell_type": "markdown",
   "metadata": {},
   "source": [
    "## Non-pooled t-test\n",
    "\n",
    "Assumes the underlying distributions are normal\n",
    "\n",
    "* H<sub>0</sub>: $\\mu_1 = \\mu_2$"
   ]
  },
  {
   "cell_type": "code",
   "execution_count": 8,
   "metadata": {},
   "outputs": [
    {
     "name": "stdout",
     "output_type": "stream",
     "text": [
      "p value:0.0000000039\n",
      "Reject null hypothesis >> The distributions for Periods 1 and 2 are different\n"
     ]
    }
   ],
   "source": [
    "def non_pooled_ttest(x1, x2):\n",
    "\n",
    "    t, p = stats.ttest_ind(x1, x2, equal_var=False)\n",
    "\n",
    "    print(\"p value:%.10f\" % p)\n",
    "    if p <0.05:\n",
    "        print(\"Reject null hypothesis >> The distributions for Periods 1 and 2 are different\")\n",
    "    else:\n",
    "        print(\"Fail to reject null hypothesis >> The distributions for Periods 1 and 2 are identical\")\n",
    "\n",
    "\n",
    "non_pooled_ttest(df1[\"Period 1\"], df1[\"Period 2\"])"
   ]
  },
  {
   "attachments": {},
   "cell_type": "markdown",
   "metadata": {},
   "source": [
    "# Question 2"
   ]
  },
  {
   "cell_type": "code",
   "execution_count": 18,
   "metadata": {},
   "outputs": [
    {
     "data": {
      "text/plain": [
       "White Liquor Carbonate    14.328484\n",
       "White Liquor TTA          89.871505\n",
       "dtype: float64"
      ]
     },
     "execution_count": 18,
     "metadata": {},
     "output_type": "execute_result"
    }
   ],
   "source": [
    "df2 = pd.read_csv(\"Group_11_Question_2_Data.csv\", index_col=0)\n"
   ]
  },
  {
   "cell_type": "code",
   "execution_count": 11,
   "metadata": {},
   "outputs": [
    {
     "data": {
      "text/plain": [
       "<AxesSubplot:xlabel='White Liquor Carbonate', ylabel='White Liquor TTA'>"
      ]
     },
     "execution_count": 11,
     "metadata": {},
     "output_type": "execute_result"
    },
    {
     "data": {
      "image/png": "[encoded data removed]",
      "text/plain": [
       "<Figure size 432x288 with 1 Axes>"
      ]
     },
     "metadata": {
      "needs_background": "light"
     },
     "output_type": "display_data"
    }
   ],
   "source": [
    "df2.plot(x=\"White Liquor Carbonate\", y=\"White Liquor TTA\", style=\"o\", kind='scatter')"
   ]
  },
  {
   "cell_type": "code",
   "execution_count": 21,
   "metadata": {},
   "outputs": [
    {
     "name": "stdout",
     "output_type": "stream",
     "text": [
      "Optimal Values\n",
      "a: 8.930397762563143\n",
      "b: -32.68171554346179\n",
      "R^2: 0.4238451985434798\n",
      "Uncertainty\n",
      "a: 8.9+/-2.5\n",
      "b: (-3+/-4)e+01\n"
     ]
    },
    {
     "data": {
      "text/plain": [
       "<matplotlib.legend.Legend at 0x13698c779a0>"
      ]
     },
     "execution_count": 21,
     "metadata": {},
     "output_type": "execute_result"
    },
    {
     "data": {
      "image/png": "[encoded data removed]",
      "text/plain": [
       "<Figure size 432x288 with 1 Axes>"
      ]
     },
     "metadata": {
      "needs_background": "light"
     },
     "output_type": "display_data"
    }
   ],
   "source": [
    "x = df2[\"White Liquor Carbonate\"]\n",
    "y = df2[\"White Liquor TTA\"]\n",
    "\n",
    "\n",
    "# from https://apmonitor.com/che263/index.php/Main/PythonRegressionStatistics\n",
    "\n",
    "def f(x, a, b):\n",
    "    return a * x + b\n",
    "\n",
    "popt, pcov = curve_fit(f, x, y)\n",
    "\n",
    "# retrieve parameter values\n",
    "a = popt[0]\n",
    "b = popt[1]\n",
    "print('Optimal Values')\n",
    "print('a: ' + str(a))\n",
    "print('b: ' + str(b))\n",
    "\n",
    "# compute r^2\n",
    "r2 = 1.0-(sum((y-f(x,a,b))**2)/((len(y)-1.0)*np.var(y,ddof=1)))\n",
    "print('R^2: ' + str(r2))\n",
    "\n",
    "# calculate parameter confidence interval\n",
    "a,b = unc.correlated_values(popt, pcov)\n",
    "print('Uncertainty')\n",
    "print('a: ' + str(a))\n",
    "print('b: ' + str(b))\n",
    "\n",
    "# plot data\n",
    "plt.scatter(x, y, label='Data')\n",
    "\n",
    "# calculate regression confidence interval\n",
    "px = np.linspace(14, 21, 100)\n",
    "py = a*px+b\n",
    "nom = unp.nominal_values(py)\n",
    "std = unp.std_devs(py)\n",
    "\n",
    "def predband(x, xd, yd, p, func, conf=0.95):\n",
    "    # x = requested points\n",
    "    # xd = x data\n",
    "    # yd = y data\n",
    "    # p = parameters\n",
    "    # func = function name\n",
    "    alpha = 1.0 - conf    # significance\n",
    "    N = xd.size          # data sample size\n",
    "    var_n = len(p)  # number of parameters\n",
    "    # Quantile of Student's t distribution for p=(1-alpha/2)\n",
    "    q = stats.t.ppf(1.0 - alpha / 2.0, N - var_n)\n",
    "    # Stdev of an individual measurement\n",
    "    se = np.sqrt(1. / (N - var_n) * \\\n",
    "                 np.sum((yd - func(xd, *p)) ** 2))\n",
    "    # Auxiliary definitions\n",
    "    sx = (x - xd.mean()) ** 2\n",
    "    sxd = np.sum((xd - xd.mean()) ** 2)\n",
    "    # Predicted values (best-fit model)\n",
    "    yp = func(x, *p)\n",
    "    # Prediction band\n",
    "    dy = q * se * np.sqrt(1.0+ (1.0/N) + (sx/sxd))\n",
    "    # Upper & lower prediction bands.\n",
    "    lpb, upb = yp - dy, yp + dy\n",
    "    return lpb, upb\n",
    "\n",
    "lpb, upb = predband(px, x, y, popt, f, conf=0.95)\n",
    "\n",
    "# plot the regression\n",
    "plt.plot(px, nom, c='black', label='y=a x + b')\n",
    "\n",
    "# uncertainty lines (95% confidence)\n",
    "plt.plot(px, nom - 1.96 * std, c='orange',\\\n",
    "         label='95% Confidence Region')\n",
    "plt.plot(px, nom + 1.96 * std, c='orange')\n",
    "# prediction band (95% confidence)\n",
    "plt.plot(px, lpb, 'k--',label='95% Prediction Band')\n",
    "plt.plot(px, upb, 'k--')\n",
    "plt.ylabel('y')\n",
    "plt.xlabel('x')\n",
    "plt.legend()"
   ]
  }
 ],
 "metadata": {
  "kernelspec": {
   "display_name": "Python 3",
   "language": "python",
   "name": "python3"
  },
  "language_info": {
   "codemirror_mode": {
    "name": "ipython",
    "version": 3
   },
   "file_extension": ".py",
   "mimetype": "text/x-python",
   "name": "python",
   "nbconvert_exporter": "python",
   "pygments_lexer": "ipython3",
   "version": "3.10.5"
  },
  "orig_nbformat": 4
 },
 "nbformat": 4,
 "nbformat_minor": 2
}
