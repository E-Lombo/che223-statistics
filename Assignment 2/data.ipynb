{
 "cells": [
  {
   "cell_type": "code",
   "execution_count": 1,
   "metadata": {},
   "outputs": [],
   "source": [
    "import pandas as pd\n",
    "import numpy as np\n",
    "from scipy import stats\n",
    "import matplotlib.pyplot as plt"
   ]
  },
  {
   "attachments": {},
   "cell_type": "markdown",
   "metadata": {},
   "source": [
    "# Question 1"
   ]
  },
  {
   "cell_type": "code",
   "execution_count": 2,
   "metadata": {},
   "outputs": [
    {
     "data": {
      "text/html": [
       "<div>\n",
       "<style scoped>\n",
       "    .dataframe tbody tr th:only-of-type {\n",
       "        vertical-align: middle;\n",
       "    }\n",
       "\n",
       "    .dataframe tbody tr th {\n",
       "        vertical-align: top;\n",
       "    }\n",
       "\n",
       "    .dataframe thead th {\n",
       "        text-align: right;\n",
       "    }\n",
       "</style>\n",
       "<table border=\"1\" class=\"dataframe\">\n",
       "  <thead>\n",
       "    <tr style=\"text-align: right;\">\n",
       "      <th></th>\n",
       "      <th>Period 1</th>\n",
       "      <th>Period 2</th>\n",
       "    </tr>\n",
       "  </thead>\n",
       "  <tbody>\n",
       "    <tr>\n",
       "      <th>0</th>\n",
       "      <td>27.680136</td>\n",
       "      <td>12.336870</td>\n",
       "    </tr>\n",
       "    <tr>\n",
       "      <th>1</th>\n",
       "      <td>32.914177</td>\n",
       "      <td>11.868782</td>\n",
       "    </tr>\n",
       "    <tr>\n",
       "      <th>2</th>\n",
       "      <td>30.806953</td>\n",
       "      <td>13.069898</td>\n",
       "    </tr>\n",
       "    <tr>\n",
       "      <th>3</th>\n",
       "      <td>33.417412</td>\n",
       "      <td>12.895928</td>\n",
       "    </tr>\n",
       "    <tr>\n",
       "      <th>4</th>\n",
       "      <td>22.121046</td>\n",
       "      <td>12.910894</td>\n",
       "    </tr>\n",
       "    <tr>\n",
       "      <th>5</th>\n",
       "      <td>22.487118</td>\n",
       "      <td>17.255720</td>\n",
       "    </tr>\n",
       "    <tr>\n",
       "      <th>6</th>\n",
       "      <td>26.722399</td>\n",
       "      <td>12.755438</td>\n",
       "    </tr>\n",
       "    <tr>\n",
       "      <th>7</th>\n",
       "      <td>31.507780</td>\n",
       "      <td>13.347216</td>\n",
       "    </tr>\n",
       "    <tr>\n",
       "      <th>8</th>\n",
       "      <td>25.720625</td>\n",
       "      <td>12.265099</td>\n",
       "    </tr>\n",
       "    <tr>\n",
       "      <th>9</th>\n",
       "      <td>23.742313</td>\n",
       "      <td>11.752333</td>\n",
       "    </tr>\n",
       "    <tr>\n",
       "      <th>10</th>\n",
       "      <td>29.733955</td>\n",
       "      <td>11.936597</td>\n",
       "    </tr>\n",
       "    <tr>\n",
       "      <th>11</th>\n",
       "      <td>11.619726</td>\n",
       "      <td>13.706794</td>\n",
       "    </tr>\n",
       "    <tr>\n",
       "      <th>12</th>\n",
       "      <td>33.406059</td>\n",
       "      <td>11.625323</td>\n",
       "    </tr>\n",
       "    <tr>\n",
       "      <th>13</th>\n",
       "      <td>12.531604</td>\n",
       "      <td>12.090756</td>\n",
       "    </tr>\n",
       "    <tr>\n",
       "      <th>14</th>\n",
       "      <td>24.077976</td>\n",
       "      <td>12.920347</td>\n",
       "    </tr>\n",
       "    <tr>\n",
       "      <th>15</th>\n",
       "      <td>29.510933</td>\n",
       "      <td>12.731277</td>\n",
       "    </tr>\n",
       "    <tr>\n",
       "      <th>16</th>\n",
       "      <td>28.882330</td>\n",
       "      <td>12.079923</td>\n",
       "    </tr>\n",
       "    <tr>\n",
       "      <th>17</th>\n",
       "      <td>24.688025</td>\n",
       "      <td>11.878917</td>\n",
       "    </tr>\n",
       "    <tr>\n",
       "      <th>18</th>\n",
       "      <td>32.995159</td>\n",
       "      <td>14.440809</td>\n",
       "    </tr>\n",
       "    <tr>\n",
       "      <th>19</th>\n",
       "      <td>24.014292</td>\n",
       "      <td>11.239848</td>\n",
       "    </tr>\n",
       "  </tbody>\n",
       "</table>\n",
       "</div>"
      ],
      "text/plain": [
       "     Period 1   Period 2\n",
       "0   27.680136  12.336870\n",
       "1   32.914177  11.868782\n",
       "2   30.806953  13.069898\n",
       "3   33.417412  12.895928\n",
       "4   22.121046  12.910894\n",
       "5   22.487118  17.255720\n",
       "6   26.722399  12.755438\n",
       "7   31.507780  13.347216\n",
       "8   25.720625  12.265099\n",
       "9   23.742313  11.752333\n",
       "10  29.733955  11.936597\n",
       "11  11.619726  13.706794\n",
       "12  33.406059  11.625323\n",
       "13  12.531604  12.090756\n",
       "14  24.077976  12.920347\n",
       "15  29.510933  12.731277\n",
       "16  28.882330  12.079923\n",
       "17  24.688025  11.878917\n",
       "18  32.995159  14.440809\n",
       "19  24.014292  11.239848"
      ]
     },
     "execution_count": 2,
     "metadata": {},
     "output_type": "execute_result"
    }
   ],
   "source": [
    "df1 = pd.read_csv('Group_11_Question_1_Data.csv', index_col=0)\n",
    "df1"
   ]
  },
  {
   "cell_type": "code",
   "execution_count": 4,
   "metadata": {},
   "outputs": [
    {
     "data": {
      "text/html": [
       "<div>\n",
       "<style scoped>\n",
       "    .dataframe tbody tr th:only-of-type {\n",
       "        vertical-align: middle;\n",
       "    }\n",
       "\n",
       "    .dataframe tbody tr th {\n",
       "        vertical-align: top;\n",
       "    }\n",
       "\n",
       "    .dataframe thead th {\n",
       "        text-align: right;\n",
       "    }\n",
       "</style>\n",
       "<table border=\"1\" class=\"dataframe\">\n",
       "  <thead>\n",
       "    <tr style=\"text-align: right;\">\n",
       "      <th></th>\n",
       "      <th>Period 1</th>\n",
       "      <th>Period 2</th>\n",
       "    </tr>\n",
       "  </thead>\n",
       "  <tbody>\n",
       "    <tr>\n",
       "      <th>count</th>\n",
       "      <td>20.000000</td>\n",
       "      <td>20.000000</td>\n",
       "    </tr>\n",
       "    <tr>\n",
       "      <th>mean</th>\n",
       "      <td>26.429001</td>\n",
       "      <td>12.755438</td>\n",
       "    </tr>\n",
       "    <tr>\n",
       "      <th>std</th>\n",
       "      <td>6.174648</td>\n",
       "      <td>1.310644</td>\n",
       "    </tr>\n",
       "    <tr>\n",
       "      <th>min</th>\n",
       "      <td>11.619726</td>\n",
       "      <td>11.239848</td>\n",
       "    </tr>\n",
       "    <tr>\n",
       "      <th>25%</th>\n",
       "      <td>23.946297</td>\n",
       "      <td>11.922177</td>\n",
       "    </tr>\n",
       "    <tr>\n",
       "      <th>50%</th>\n",
       "      <td>27.201267</td>\n",
       "      <td>12.534074</td>\n",
       "    </tr>\n",
       "    <tr>\n",
       "      <th>75%</th>\n",
       "      <td>30.982160</td>\n",
       "      <td>12.957735</td>\n",
       "    </tr>\n",
       "    <tr>\n",
       "      <th>max</th>\n",
       "      <td>33.417412</td>\n",
       "      <td>17.255720</td>\n",
       "    </tr>\n",
       "  </tbody>\n",
       "</table>\n",
       "</div>"
      ],
      "text/plain": [
       "        Period 1   Period 2\n",
       "count  20.000000  20.000000\n",
       "mean   26.429001  12.755438\n",
       "std     6.174648   1.310644\n",
       "min    11.619726  11.239848\n",
       "25%    23.946297  11.922177\n",
       "50%    27.201267  12.534074\n",
       "75%    30.982160  12.957735\n",
       "max    33.417412  17.255720"
      ]
     },
     "execution_count": 4,
     "metadata": {},
     "output_type": "execute_result"
    }
   ],
   "source": [
    "df1.describe()"
   ]
  },
  {
   "cell_type": "code",
   "execution_count": 46,
   "metadata": {},
   "outputs": [],
   "source": [
    "def check_normality(data):\n",
    "    test_stat_normality, p_value_normality=stats.shapiro(data)\n",
    "    print(\"p value:%.4f\" % p_value_normality)\n",
    "    if p_value_normality <0.05:\n",
    "        print(\"Reject null hypothesis >> The data is not normally distributed\")\n",
    "    else:\n",
    "        print(\"Fail to reject null hypothesis >> The data is normally distributed\")"
   ]
  },
  {
   "cell_type": "code",
   "execution_count": 47,
   "metadata": {},
   "outputs": [
    {
     "name": "stdout",
     "output_type": "stream",
     "text": [
      "p value:0.0188\n",
      "Reject null hypothesis >> The data is not normally distributed\n",
      "p value:0.0005\n",
      "Reject null hypothesis >> The data is not normally distributed\n"
     ]
    }
   ],
   "source": [
    "check_normality(df1[\"Period 1\"])\n",
    "check_normality(df1[\"Period 2\"])"
   ]
  },
  {
   "cell_type": "code",
   "execution_count": 53,
   "metadata": {},
   "outputs": [],
   "source": [
    "def check_variance_homogeneity(group1, group2):\n",
    "    test_stat_var, p_value_var= stats.levene(group1,group2)\n",
    "    print(\"p value:%.4f\" % p_value_var)\n",
    "    if p_value_var <0.05:\n",
    "        print(\"Reject null hypothesis >> The variances of the samples are different.\")\n",
    "    else:\n",
    "        print(\"Fail to reject null hypothesis >> The variances of the samples are same.\")\n",
    "\n",
    "# see F-test "
   ]
  },
  {
   "cell_type": "code",
   "execution_count": 54,
   "metadata": {},
   "outputs": [
    {
     "name": "stdout",
     "output_type": "stream",
     "text": [
      "p value:0.0002\n",
      "Reject null hypothesis >> The variances of the samples are different.\n"
     ]
    }
   ],
   "source": [
    "check_variance_homogeneity(df1[\"Period 1\"], df1[\"Period 2\"])"
   ]
  },
  {
   "cell_type": "code",
   "execution_count": 15,
   "metadata": {},
   "outputs": [
    {
     "data": {
      "text/plain": [
       "array([[<AxesSubplot:title={'center':'Period 1'}>,\n",
       "        <AxesSubplot:title={'center':'Period 2'}>]], dtype=object)"
      ]
     },
     "execution_count": 15,
     "metadata": {},
     "output_type": "execute_result"
    },
    {
     "data": {
      "image/png": "[encoded data removed]",
      "text/plain": [
       "<Figure size 432x288 with 2 Axes>"
      ]
     },
     "metadata": {
      "needs_background": "light"
     },
     "output_type": "display_data"
    }
   ],
   "source": [
    "df1.hist()"
   ]
  },
  {
   "cell_type": "code",
   "execution_count": 6,
   "metadata": {},
   "outputs": [
    {
     "data": {
      "image/png": "[encoded data removed]",
      "text/plain": [
       "<Figure size 432x288 with 1 Axes>"
      ]
     },
     "metadata": {
      "needs_background": "light"
     },
     "output_type": "display_data"
    }
   ],
   "source": [
    "plt.hist(df1[\"Period 1\"], bins=10)\n",
    "plt.hist(df1[\"Period 2\"], bins=10)\n",
    "plt.show()"
   ]
  },
  {
   "attachments": {},
   "cell_type": "markdown",
   "metadata": {},
   "source": [
    "## Wilcoxon Rank-Sum / Mann Whitney U Test\n",
    "\n",
    "Assuming:\n",
    "1. The populations are continuous / ordinal\n",
    "2. The probability density functions are of the same size and shape, but only shifted in location\n",
    "\n",
    "(#2 is shaky, but possible if assuming that the measurment method provides the same distribution, but shifted, for Kappa regardless of type of wood)"
   ]
  },
  {
   "attachments": {},
   "cell_type": "markdown",
   "metadata": {},
   "source": [
    "Let\n",
    "\n",
    "* H<sub>0</sub>: The distributions for Periods 1 and 2 are identical\n",
    "* H<sub>1</sub>: The distributions for Periods 1 and 2 are different\n",
    "\n",
    "A confidence level of 95% will be required to reject the null hypothesis in favor of the alternative"
   ]
  },
  {
   "cell_type": "code",
   "execution_count": 50,
   "metadata": {},
   "outputs": [
    {
     "name": "stdout",
     "output_type": "stream",
     "text": [
      "p value:0.0000039874\n",
      "Reject null hypothesis >> The distributions for Periods 1 and 2 are different\n"
     ]
    }
   ],
   "source": [
    "def test_mannwhtneyu_hypothesis(x1, x2):\n",
    "    U, p = stats.mannwhitneyu(x1, x2)\n",
    "\n",
    "    print(\"p value:%.10f\" % p)\n",
    "    if p <0.05:\n",
    "        print(\"Reject null hypothesis >> The distributions for Periods 1 and 2 are different\")\n",
    "    else:\n",
    "        print(\"Fail to reject null hypothesis >> The distributions for Periods 1 and 2 are identical\")\n",
    "\n",
    "test_mannwhtneyu_hypothesis(df1[\"Period 1\"], df1[\"Period 2\"])"
   ]
  },
  {
   "attachments": {},
   "cell_type": "markdown",
   "metadata": {},
   "source": [
    "## Kruskal-Wallis H test\n",
    "\n",
    "Extension of the Mann-Whitney\n",
    "\n",
    "Let\n",
    "\n",
    "* H<sub>0</sub>: The median Kappa for Periods 1 and 2 are identical\n",
    "* H<sub>1</sub>: The median Kappa for Periods 1 and 2 are different"
   ]
  },
  {
   "cell_type": "code",
   "execution_count": 56,
   "metadata": {},
   "outputs": [
    {
     "name": "stdout",
     "output_type": "stream",
     "text": [
      "p value:0.0000037358\n",
      "Reject null hypothesis >> The median Kappa for Periods 1 and 2 are different\n"
     ]
    }
   ],
   "source": [
    "def test_kruskalwallish_hypothesis():\n",
    "    H, p = stats.kruskal(df1[\"Period 1\"], df1[\"Period 2\"])\n",
    "\n",
    "    print(\"p value:%.10f\" % p)\n",
    "    if p <0.05:\n",
    "        print(\"Reject null hypothesis >> The median Kappa for Periods 1 and 2 are different\")\n",
    "    else:\n",
    "        print(\"Fail to reject null hypothesis >> The median Kappa for Periods 1 and 2 are identical\")\n",
    "\n",
    "test_kruskalwallish_hypothesis()"
   ]
  },
  {
   "attachments": {},
   "cell_type": "markdown",
   "metadata": {},
   "source": [
    "## F-test for variance"
   ]
  },
  {
   "cell_type": "code",
   "execution_count": 7,
   "metadata": {},
   "outputs": [
    {
     "name": "stdout",
     "output_type": "stream",
     "text": [
      "Reject null hypothesis >> The variances of the samples are different.\n"
     ]
    }
   ],
   "source": [
    "def f_test(x1: pd.Series, x2: pd.Series):\n",
    "\n",
    "    # Ensures the F statistic is greater than 1, by assigning the larger standard deviation to the numerator\n",
    "    if x1.std() < x2.std():\n",
    "        x1, x2 = x2, x1\n",
    "\n",
    "    # Calculate F statistic\n",
    "    F = x1.std()**2 / x2.std()**2\n",
    "\n",
    "    # Set degrees of freedom\n",
    "    kwargs = dict(dfn= (x1.size -1), dfd= (x2.size -1))\n",
    "\n",
    "    # Find critical value of F distribution at 95% confidence level\n",
    "    F_crit = stats.f.ppf(q=1-0.05, **kwargs)\n",
    "\n",
    "    if F > F_crit:\n",
    "        print(\"Reject null hypothesis >> The variances of the samples are different.\")\n",
    "    else:\n",
    "        print(\"Fail to reject null hypothesis >> The variances of the samples are same.\")\n",
    "\n",
    "f_test(df1[\"Period 1\"], df1[\"Period 2\"])"
   ]
  },
  {
   "attachments": {},
   "cell_type": "markdown",
   "metadata": {},
   "source": [
    "## Non-pooled t-test\n",
    "\n",
    "Assumes the underlying distributions are normal\n",
    "\n",
    "* H<sub>0</sub>: $\\mu_1 = \\mu_2$"
   ]
  },
  {
   "cell_type": "code",
   "execution_count": 8,
   "metadata": {},
   "outputs": [
    {
     "name": "stdout",
     "output_type": "stream",
     "text": [
      "p value:0.0000000039\n",
      "Reject null hypothesis >> The distributions for Periods 1 and 2 are different\n"
     ]
    }
   ],
   "source": [
    "def non_pooled_ttest(x1, x2):\n",
    "\n",
    "    t, p = stats.ttest_ind(x1, x2, equal_var=False)\n",
    "\n",
    "    print(\"p value:%.10f\" % p)\n",
    "    if p <0.05:\n",
    "        print(\"Reject null hypothesis >> The distributions for Periods 1 and 2 are different\")\n",
    "    else:\n",
    "        print(\"Fail to reject null hypothesis >> The distributions for Periods 1 and 2 are identical\")\n",
    "\n",
    "\n",
    "non_pooled_ttest(df1[\"Period 1\"], df1[\"Period 2\"])"
   ]
  },
  {
   "attachments": {},
   "cell_type": "markdown",
   "metadata": {},
   "source": [
    "# Question 2"
   ]
  },
  {
   "cell_type": "code",
   "execution_count": 6,
   "metadata": {},
   "outputs": [
    {
     "data": {
      "text/html": [
       "<div>\n",
       "<style scoped>\n",
       "    .dataframe tbody tr th:only-of-type {\n",
       "        vertical-align: middle;\n",
       "    }\n",
       "\n",
       "    .dataframe tbody tr th {\n",
       "        vertical-align: top;\n",
       "    }\n",
       "\n",
       "    .dataframe thead th {\n",
       "        text-align: right;\n",
       "    }\n",
       "</style>\n",
       "<table border=\"1\" class=\"dataframe\">\n",
       "  <thead>\n",
       "    <tr style=\"text-align: right;\">\n",
       "      <th></th>\n",
       "      <th>White Liquor Carbonate</th>\n",
       "      <th>White Liquor TTA</th>\n",
       "    </tr>\n",
       "  </thead>\n",
       "  <tbody>\n",
       "    <tr>\n",
       "      <th>0</th>\n",
       "      <td>17.840031</td>\n",
       "      <td>152.724304</td>\n",
       "    </tr>\n",
       "    <tr>\n",
       "      <th>1</th>\n",
       "      <td>17.367847</td>\n",
       "      <td>132.267677</td>\n",
       "    </tr>\n",
       "    <tr>\n",
       "      <th>2</th>\n",
       "      <td>20.163693</td>\n",
       "      <td>164.266577</td>\n",
       "    </tr>\n",
       "    <tr>\n",
       "      <th>3</th>\n",
       "      <td>15.864983</td>\n",
       "      <td>89.871505</td>\n",
       "    </tr>\n",
       "    <tr>\n",
       "      <th>4</th>\n",
       "      <td>18.346350</td>\n",
       "      <td>121.016272</td>\n",
       "    </tr>\n",
       "    <tr>\n",
       "      <th>5</th>\n",
       "      <td>17.887058</td>\n",
       "      <td>123.681328</td>\n",
       "    </tr>\n",
       "    <tr>\n",
       "      <th>6</th>\n",
       "      <td>14.897484</td>\n",
       "      <td>97.461028</td>\n",
       "    </tr>\n",
       "    <tr>\n",
       "      <th>7</th>\n",
       "      <td>17.057594</td>\n",
       "      <td>112.368003</td>\n",
       "    </tr>\n",
       "    <tr>\n",
       "      <th>8</th>\n",
       "      <td>16.736556</td>\n",
       "      <td>131.524967</td>\n",
       "    </tr>\n",
       "    <tr>\n",
       "      <th>9</th>\n",
       "      <td>17.542232</td>\n",
       "      <td>116.096851</td>\n",
       "    </tr>\n",
       "    <tr>\n",
       "      <th>10</th>\n",
       "      <td>17.455367</td>\n",
       "      <td>133.305869</td>\n",
       "    </tr>\n",
       "    <tr>\n",
       "      <th>11</th>\n",
       "      <td>14.328484</td>\n",
       "      <td>125.012711</td>\n",
       "    </tr>\n",
       "    <tr>\n",
       "      <th>12</th>\n",
       "      <td>16.388901</td>\n",
       "      <td>100.555134</td>\n",
       "    </tr>\n",
       "    <tr>\n",
       "      <th>13</th>\n",
       "      <td>17.847958</td>\n",
       "      <td>120.188298</td>\n",
       "    </tr>\n",
       "    <tr>\n",
       "      <th>14</th>\n",
       "      <td>16.505693</td>\n",
       "      <td>105.709968</td>\n",
       "    </tr>\n",
       "    <tr>\n",
       "      <th>15</th>\n",
       "      <td>16.070669</td>\n",
       "      <td>119.042737</td>\n",
       "    </tr>\n",
       "    <tr>\n",
       "      <th>16</th>\n",
       "      <td>17.717340</td>\n",
       "      <td>96.577030</td>\n",
       "    </tr>\n",
       "    <tr>\n",
       "      <th>17</th>\n",
       "      <td>18.165088</td>\n",
       "      <td>131.153708</td>\n",
       "    </tr>\n",
       "    <tr>\n",
       "      <th>18</th>\n",
       "      <td>14.691244</td>\n",
       "      <td>99.454132</td>\n",
       "    </tr>\n",
       "    <tr>\n",
       "      <th>19</th>\n",
       "      <td>15.467524</td>\n",
       "      <td>95.617082</td>\n",
       "    </tr>\n",
       "  </tbody>\n",
       "</table>\n",
       "</div>"
      ],
      "text/plain": [
       "    White Liquor Carbonate  White Liquor TTA\n",
       "0                17.840031        152.724304\n",
       "1                17.367847        132.267677\n",
       "2                20.163693        164.266577\n",
       "3                15.864983         89.871505\n",
       "4                18.346350        121.016272\n",
       "5                17.887058        123.681328\n",
       "6                14.897484         97.461028\n",
       "7                17.057594        112.368003\n",
       "8                16.736556        131.524967\n",
       "9                17.542232        116.096851\n",
       "10               17.455367        133.305869\n",
       "11               14.328484        125.012711\n",
       "12               16.388901        100.555134\n",
       "13               17.847958        120.188298\n",
       "14               16.505693        105.709968\n",
       "15               16.070669        119.042737\n",
       "16               17.717340         96.577030\n",
       "17               18.165088        131.153708\n",
       "18               14.691244         99.454132\n",
       "19               15.467524         95.617082"
      ]
     },
     "execution_count": 6,
     "metadata": {},
     "output_type": "execute_result"
    }
   ],
   "source": [
    "df2 = pd.read_csv(\"Group_11_Question_2_Data.csv\", index_col=0)\n",
    "df2"
   ]
  },
  {
   "cell_type": "code",
   "execution_count": 10,
   "metadata": {},
   "outputs": [
    {
     "data": {
      "text/plain": [
       "<AxesSubplot:xlabel='White Liquor Carbonate'>"
      ]
     },
     "execution_count": 10,
     "metadata": {},
     "output_type": "execute_result"
    },
    {
     "data": {
      "image/png": "[encoded data removed]",
      "text/plain": [
       "<Figure size 432x288 with 1 Axes>"
      ]
     },
     "metadata": {
      "needs_background": "light"
     },
     "output_type": "display_data"
    }
   ],
   "source": [
    "df2.plot(x=\"White Liquor Carbonate\", style=\"o\")"
   ]
  }
 ],
 "metadata": {
  "kernelspec": {
   "display_name": "Python 3",
   "language": "python",
   "name": "python3"
  },
  "language_info": {
   "codemirror_mode": {
    "name": "ipython",
    "version": 3
   },
   "file_extension": ".py",
   "mimetype": "text/x-python",
   "name": "python",
   "nbconvert_exporter": "python",
   "pygments_lexer": "ipython3",
   "version": "3.10.5"
  },
  "orig_nbformat": 4
 },
 "nbformat": 4,
 "nbformat_minor": 2
}
