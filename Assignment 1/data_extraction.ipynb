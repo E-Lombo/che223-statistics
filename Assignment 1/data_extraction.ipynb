{
 "cells": [
  {
   "cell_type": "code",
   "execution_count": 1,
   "metadata": {},
   "outputs": [],
   "source": [
    "import numpy as np\n",
    "import xlrd\n",
    "import pandas as pd\n",
    "import matplotlib.pyplot as plt\n",
    "import molmass"
   ]
  },
  {
   "cell_type": "code",
   "execution_count": 23,
   "metadata": {},
   "outputs": [],
   "source": [
    "# reading_data\n",
    "data_wb = xlrd.open_workbook('CHE223-Assignment1 for 2023-data sets up to 2019.xls')\n",
    "\n",
    "# FInding Columns of Ions and Postal Codes\n",
    "ion_dict = {}\n",
    "postal_code = {}\n",
    "\n",
    "for sheet in data_wb.sheets():\n",
    "\n",
    "    year = ''\n",
    "    for char in sheet.name:\n",
    "        if char.isdigit(): year += char\n",
    "    year = int(year)\n",
    "\n",
    "    ions = []\n",
    "    for row in np.arange(11):\n",
    "        for col in np.arange(sheet.ncols):\n",
    "            value = sheet.cell_value(row,col)\n",
    "\n",
    "            if type(value) is str:\n",
    "                if len(value)<=3:\n",
    "                    try :\n",
    "                        molmass.Formula(value)._elements\n",
    "                        ions.append((year, col, row, value))\n",
    "                    except: pass\n",
    "                elif 'postal' in value.lower():\n",
    "                    postal_code[sheet] = col\n",
    "\n",
    "    ion_dict[sheet] = ions\n",
    "    "
   ]
  },
  {
   "cell_type": "code",
   "execution_count": 86,
   "metadata": {},
   "outputs": [],
   "source": [
    "# iterate through rows and record values based on (column, ion) pairs\n",
    "\n",
    "data = []\n",
    "\n",
    "for sheet in data_wb.sheets():\n",
    "    for i in np.arange(len(ion_dict[sheet])):\n",
    "\n",
    "        ion_tuple = ion_dict[sheet][i]\n",
    "        for row in np.arange(ion_dict[sheet][i][2]+1, sheet.nrows):\n",
    "\n",
    "            value = sheet.cell_value(row,ion_dict[sheet][i][1])\n",
    "\n",
    "            # Data cleaning\n",
    "            if type(value) is str:\n",
    "                if 'n' in value.lower() or '-' in value or value.strip() == '':\n",
    "                    value = np.nan\n",
    "                \n",
    "                elif value.endswith('ppm'):\n",
    "                    value = float(value.strip('ppm'))\n",
    "\n",
    "                elif '..' in value:\n",
    "                    value = float(value.replace('..','.'))\n",
    "\n",
    "                elif '. ' in value:\n",
    "                    value = float(value.replace('. ','.'))\n",
    "                \n",
    "                elif '^' in value:\n",
    "                    value = float(value[0:4]) * 10 ** int(value[-1])\n",
    "\n",
    "            if sheet in postal_code:\n",
    "                pocode = sheet.cell_value(row, postal_code[sheet]).strip().upper()[0:3]\n",
    "                \n",
    "                if pocode.strip() == '':\n",
    "                    pocode = np.nan\n",
    "\n",
    "            else:\n",
    "                pocode = np.nan\n",
    "            \n",
    "            data.append([ion_tuple[0], ion_tuple[3], value, pocode])\n",
    "\n",
    "\n",
    "\n",
    "df = pd.DataFrame(data, columns=['Year', 'Ion', 'Conc (mg/L)', 'Postal Code'])"
   ]
  },
  {
   "cell_type": "code",
   "execution_count": null,
   "metadata": {},
   "outputs": [],
   "source": []
  }
 ],
 "metadata": {
  "kernelspec": {
   "display_name": "Python 3",
   "language": "python",
   "name": "python3"
  },
  "language_info": {
   "codemirror_mode": {
    "name": "ipython",
    "version": 3
   },
   "file_extension": ".py",
   "mimetype": "text/x-python",
   "name": "python",
   "nbconvert_exporter": "python",
   "pygments_lexer": "ipython3",
   "version": "3.10.5"
  },
  "orig_nbformat": 4,
  "vscode": {
   "interpreter": {
    "hash": "046f969ac449e9edefff78cf92019a79aa145292cff45f4ce727341981549303"
   }
  }
 },
 "nbformat": 4,
 "nbformat_minor": 2
}
