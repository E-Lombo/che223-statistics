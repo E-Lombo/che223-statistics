{
 "cells": [
  {
   "cell_type": "code",
   "execution_count": 4,
   "metadata": {},
   "outputs": [],
   "source": [
    "import numpy as np\n",
    "import xlrd\n",
    "import pandas as pd\n",
    "import matplotlib.pyplot as plt"
   ]
  },
  {
   "cell_type": "code",
   "execution_count": 11,
   "metadata": {},
   "outputs": [],
   "source": [
    "data_wb = xlrd.open_workbook('CHE223-Assignment1 for 2023-data sets up to 2019.xls')\n",
    "\n",
    "data = pd.DataFrame({'Year': [2018], 'Ion': ['Ca'], 'Conc (mg/L)': [0], 'Relative Standard Deviation (RSD)': [0], 'Postal Code': [None]})"
   ]
  }
 ],
 "metadata": {
  "kernelspec": {
   "display_name": "Python 3",
   "language": "python",
   "name": "python3"
  },
  "language_info": {
   "codemirror_mode": {
    "name": "ipython",
    "version": 3
   },
   "file_extension": ".py",
   "mimetype": "text/x-python",
   "name": "python",
   "nbconvert_exporter": "python",
   "pygments_lexer": "ipython3",
   "version": "3.10.5"
  },
  "orig_nbformat": 4,
  "vscode": {
   "interpreter": {
    "hash": "046f969ac449e9edefff78cf92019a79aa145292cff45f4ce727341981549303"
   }
  }
 },
 "nbformat": 4,
 "nbformat_minor": 2
}
