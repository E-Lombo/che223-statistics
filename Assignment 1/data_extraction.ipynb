{
 "cells": [
  {
   "cell_type": "code",
   "execution_count": 61,
   "metadata": {},
   "outputs": [],
   "source": [
    "import numpy as np\n",
    "import xlrd\n",
    "import pandas as pd\n",
    "import matplotlib.pyplot as plt\n",
    "import molmass"
   ]
  },
  {
   "cell_type": "code",
   "execution_count": 60,
   "metadata": {},
   "outputs": [],
   "source": [
    "# reading_data\n",
    "data_wb = xlrd.open_workbook('CHE223-Assignment1 for 2023-data sets up to 2019.xls')\n",
    "\n",
    "data = pd.DataFrame({'Year': [], 'Ion': [], 'Conc (mg/L)': [], 'Relative Standard Deviation (RSD)': [], 'Postal Code': []})\n",
    "\n",
    "# Reading Ions\n",
    "\n",
    "ion_dict = {}\n",
    "\n",
    "for sheet in data_wb.sheets():\n",
    "\n",
    "    year = ''\n",
    "    for char in sheet.name:\n",
    "        if char.isdigit(): year += char\n",
    "    year = int(year)\n",
    "\n",
    "    ions = []\n",
    "    for row in np.arange(11):\n",
    "        for col in np.arange(sheet.ncols):\n",
    "            value = sheet.cell_value(row,col)\n",
    "\n",
    "            if type(value) is str and len(value)<=3:\n",
    "                try :\n",
    "                    molmass.Formula(value)._elements\n",
    "                    ions.append((col, value))\n",
    "                except: pass\n",
    "\n",
    "    ion_dict[year] = ions\n",
    "    "
   ]
  },
  {
   "cell_type": "code",
   "execution_count": null,
   "metadata": {},
   "outputs": [],
   "source": [
    "# iterate through rows and record values based on (column, ion) pairs"
   ]
  },
  {
   "attachments": {},
   "cell_type": "markdown",
   "metadata": {},
   "source": [
    "Notes:\n",
    "- for missing data use <code>np.nan</code>"
   ]
  }
 ],
 "metadata": {
  "kernelspec": {
   "display_name": "Python 3",
   "language": "python",
   "name": "python3"
  },
  "language_info": {
   "codemirror_mode": {
    "name": "ipython",
    "version": 3
   },
   "file_extension": ".py",
   "mimetype": "text/x-python",
   "name": "python",
   "nbconvert_exporter": "python",
   "pygments_lexer": "ipython3",
   "version": "3.10.5"
  },
  "orig_nbformat": 4,
  "vscode": {
   "interpreter": {
    "hash": "046f969ac449e9edefff78cf92019a79aa145292cff45f4ce727341981549303"
   }
  }
 },
 "nbformat": 4,
 "nbformat_minor": 2
}
